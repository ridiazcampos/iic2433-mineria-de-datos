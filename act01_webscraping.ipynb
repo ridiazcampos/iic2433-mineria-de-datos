{
 "cells": [
  {
   "cell_type": "markdown",
   "metadata": {
    "colab_type": "text",
    "id": "_AEjQESjPgSA"
   },
   "source": [
    "# Actividad 01: Web Scraping\n",
    "\n",
    "En esta actividad trabajarán con _web scraping_ para la generación de su propia base de datos. Luego, a partir de esta, deberán ser capaz de responder consultas simples sobre la información que contiene.\n",
    "\n",
    "\\\n",
    "\n",
    "## **Entrega** \n",
    "La entrega de la actividad se realiza a través de **GitHub Classroom** en este mismo repositorio, revisaremos el **último _commit_ antes de las 20:00 hrs**. Deben aceptar la siguiente invitación para que se cree un repositorio https://classroom.github.com/a/RxR62732.\n",
    "\n",
    "\n",
    "\\\n",
    "### **Consultas** \n",
    "Además, recuerden que durante el módulo de ayudantía 15:30 - 16:50 habrán ayudantes disponibles para responder dudas sobre la actividad en el siguiente [servidor de Discord](https://discord.gg/m8Fm2A).\n",
    "\n",
    "\\\n",
    "Por último, recuerden que si bien estas actividades **son de caracter formativo**, recomendamos su realización ya que les permitirá aprender de forma práctica los contenidos vistos en clase. Si logran realizar las actividades a lo largo del curso, podrán obtener un beneficio en la nota de Tareas."
   ]
  },
  {
   "cell_type": "markdown",
   "metadata": {
    "colab_type": "text",
    "id": "afu723VDRV4g"
   },
   "source": [
    "#### Librerías a utilizar:\n",
    "Si bien para hacer web scraping se pueden utilzar diversas librerías, una de las más fáciles y rápidas de usar es [Beautiful Soup](https://www.crummy.com/software/BeautifulSoup/), la cual, para páginas con **html estático**, es de las más utilizadas. Además, se ocupará la librería [Requests](https://requests.readthedocs.io/en/master/) que sirve para hacer request de páginas web."
   ]
  },
  {
   "cell_type": "code",
   "execution_count": null,
   "metadata": {
    "colab": {},
    "colab_type": "code",
    "id": "1Bro0MkUPetW"
   },
   "outputs": [],
   "source": []
  },
  {
   "cell_type": "markdown",
   "metadata": {
    "colab_type": "text",
    "id": "rsUhITohUvOV"
   },
   "source": [
    "#### (Requests) Ejemplo de uso:\n",
    "\n",
    "Debemos partir haciendo un **request** al sitio al que queremos hacer scraping. Para esto la librería *requests* ofrece distintos métodos asociados a distintos tipos de request que podemos hacer (GET, POST, DELETE, etc).\n",
    "\n",
    "Ahora haremos una request tipo GET de la página de [Carreras UC](http://admisionyregistros.uc.cl/futuros-alumnos/conoce-la-uc/carreras):"
   ]
  },
  {
   "cell_type": "code",
   "execution_count": 3,
   "metadata": {
    "colab": {},
    "colab_type": "code",
    "id": "tl0L7-GuU8Aj"
   },
   "outputs": [],
   "source": []
  },
  {
   "cell_type": "markdown",
   "metadata": {
    "colab_type": "text",
    "id": "2qEkMhC8ZTa5"
   },
   "source": [
    "El objeto page ahora tiene (casi) toda la información de la página en url, este objeto tiene distinta información sobre la página que nos será útil a la hora de hacer scraping:"
   ]
  },
  {
   "cell_type": "code",
   "execution_count": null,
   "metadata": {
    "colab": {
     "base_uri": "https://localhost:8080/",
     "height": 89
    },
    "colab_type": "code",
    "id": "9Gc19mUmZ7hD",
    "outputId": "fee3e43e-1ee7-4d3a-d898-bed5b5bc9fba"
   },
   "outputs": [],
   "source": []
  },
  {
   "cell_type": "markdown",
   "metadata": {
    "colab_type": "text",
    "id": "PX6I4mZSbcmb"
   },
   "source": [
    "Si bien la librería tiene muchas más funcionalidades, estás serán las primordiales a la hora de hacer scraping de sitios webs (más o menos simples)..."
   ]
  },
  {
   "cell_type": "markdown",
   "metadata": {
    "colab_type": "text",
    "id": "aalh019cbtk4"
   },
   "source": [
    "#### (BeatifulSoup) Ejemplo de uso:\n",
    "\n",
    "BeatifulSoup arma un objeto desde el cual se puede acceder al contenido estructurado dentro de este. Para esto debemos entregar el contenido de la página y la forma en la que está estructurada la información (el \"html.parser\", de todas formas se puede omitir y la librería lo determinará automáticamente)"
   ]
  },
  {
   "cell_type": "code",
   "execution_count": null,
   "metadata": {
    "colab": {},
    "colab_type": "code",
    "id": "Qtz_qYYqWflv"
   },
   "outputs": [],
   "source": []
  },
  {
   "cell_type": "markdown",
   "metadata": {
    "colab_type": "text",
    "id": "m2y8vMZGczuq"
   },
   "source": [
    "Desde este punto nosotros podemos acceder a toda la estructura de la página original y, de lo más útil, podemos hacer búsquedas por **html tags** para obtener la información que nosotros queremos:"
   ]
  },
  {
   "cell_type": "code",
   "execution_count": null,
   "metadata": {
    "colab": {
     "base_uri": "https://localhost:8080/",
     "height": 1000
    },
    "colab_type": "code",
    "id": "4hovPpyXcwNm",
    "outputId": "1e445173-225b-4e0b-90f5-44a993bc5fdb"
   },
   "outputs": [],
   "source": []
  },
  {
   "cell_type": "markdown",
   "metadata": {
    "colab_type": "text",
    "id": "lABDolsrfAXs"
   },
   "source": [
    "Notemos en el output anterior que en algunos casos no solo aparece el tag con ```<a>```, sino que también incluye todos los tags que están al interior de estos. Además el método __*find* nos retorna un BeatifulSoup, por lo que podemos volver a aplicar la función *find* sobre este__.\n",
    "\n",
    "Con esto ya tenemos todo para poder extraer información de la página, con el siguiente código vamos a extraer una lista con todas las carreras que se dictan en la UC, sus respectivas páginas web y la imagen miniatura:"
   ]
  },
  {
   "cell_type": "code",
   "execution_count": null,
   "metadata": {
    "colab": {
     "base_uri": "https://localhost:8080/",
     "height": 34
    },
    "colab_type": "code",
    "id": "QyLMJPstYFA6",
    "outputId": "f091fca2-c734-4e37-d5fa-b8fb6aa07f6f"
   },
   "outputs": [],
   "source": []
  },
  {
   "cell_type": "markdown",
   "metadata": {
    "colab_type": "text",
    "id": "PyCIwItqfy8y"
   },
   "source": [
    "#### (Pandas) Ejemplo de uso:\n",
    "\n",
    "Muchas veces queremos pasar la información recolectada a tablas en la cuales trabajar con la información resulte de manera más rápida y ordenada. ```pandas``` es una de las librerías más utilizadas con este propósito, ahora veremos un caso de aplicación muy básico.\n",
    "\n",
    "Digamos que queremos pasar la información a una tabla:"
   ]
  },
  {
   "cell_type": "code",
   "execution_count": null,
   "metadata": {
    "colab": {
     "base_uri": "https://localhost:8080/",
     "height": 235
    },
    "colab_type": "code",
    "id": "YLhfFlKtgaSY",
    "outputId": "07cbbc07-1d4d-439c-d98f-5aefe3e57dbd"
   },
   "outputs": [],
   "source": []
  },
  {
   "cell_type": "markdown",
   "metadata": {
    "colab_type": "text",
    "id": "Be7ZGXAMltbk"
   },
   "source": [
    "Si bien los **DataFrames** tienen muchos métodos y aplicaciones, estas se verán en profundidad en la ayudantía de la próxima semana, para esta actividad solo tienen que pensar estos objetos como iterables en sus filas y donde para cada fila pueden acceder a la información que esta posee usando ```row[columna]```."
   ]
  },
  {
   "cell_type": "code",
   "execution_count": null,
   "metadata": {
    "colab": {
     "base_uri": "https://localhost:8080/",
     "height": 200
    },
    "colab_type": "code",
    "id": "6CgyxWX-GNQQ",
    "outputId": "1e1500bc-d6a6-4a4f-daea-15bbff3fe587"
   },
   "outputs": [],
   "source": []
  },
  {
   "cell_type": "markdown",
   "metadata": {
    "colab_type": "text",
    "id": "InS6XEL5HUCA"
   },
   "source": [
    "Lo último que queda por mostrar es una forma de almacenar estas estructuras como un archvio ```.csv```, lo cual se puede hacer con una función de la misma librería:"
   ]
  },
  {
   "cell_type": "code",
   "execution_count": null,
   "metadata": {
    "colab": {},
    "colab_type": "code",
    "id": "dg2PsEdWmnmy"
   },
   "outputs": [],
   "source": []
  },
  {
   "cell_type": "markdown",
   "metadata": {
    "colab_type": "text",
    "id": "V5s2NoXcUFKz"
   },
   "source": [
    "# Desarrollo de la Actividad:\n",
    "\n",
    "La actividad consta de **dos partes**:\n",
    "\n",
    "1.   Utilizar Web Scraping para conseguir información desde la web y generar una base de datos a partir de esta.\n",
    "2.   Trabajar en el manejo de estos datos utilizando librerías y métodos de ```python```."
   ]
  },
  {
   "cell_type": "markdown",
   "metadata": {},
   "source": [
    "### Actividad 01\n",
    "\n",
    "* Nombre: Raúl Ignacio Diaz Campos\n",
    "\n",
    "* Número Estudiante: 1720688J\n",
    "\n",
    "* GitHub: ridiazcampos"
   ]
  },
  {
   "cell_type": "markdown",
   "metadata": {
    "colab_type": "text",
    "id": "MGjMxvIyyUEh"
   },
   "source": [
    "## Parte 1: Web Scraping\n",
    "\n",
    "Deberán ocupar Web Scraping para obtener una base de datos a partir de los notebooks presentes en https://www.solotodo.cl/notebooks.\n",
    "\n",
    "En dicho link se muestra un _index_ con todos los notebooks que hay disponibles en la página. Desde acá ustedes podrán acceder a la \"tarjeta\" de cada notebook, la cual contiene información del producto y el **_url_ de la página específica del producto**.\n",
    "\n",
    "La idea es que por cada producto ustedes sean capaces de acceder a su página específica y extraer la siguiente información:\n",
    "\n",
    "* Nombre\n",
    "* Precio (lo pueden extraer en el _index_)\n",
    "* Procesador\n",
    "* RAM\n",
    "* Almacenamiento\n",
    "* Tarjetas de video\n",
    "* Peso\n",
    "* Puntuación de aplicaciones\n",
    "* Puntuación de gaming\n",
    "* Puntuación de movilidad\n",
    "\n",
    "Para la actividad deberán conseguir los datos de 120 productos distintos, para esto tendrán que enfrentarse a la páginación del sitio utilizando las librerías (**NO será válido guardar 10 link en una lista e iterar sobre estos**)."
   ]
  },
  {
   "cell_type": "code",
   "execution_count": 13,
   "metadata": {
    "colab": {},
    "colab_type": "code",
    "id": "x0ja9Ak0UmP2"
   },
   "outputs": [],
   "source": [
    "import requests\n",
    "from bs4 import BeautifulSoup"
   ]
  },
  {
   "cell_type": "code",
   "execution_count": 124,
   "metadata": {
    "colab": {
     "base_uri": "https://localhost:8080/",
     "height": 1000
    },
    "colab_type": "code",
    "id": "ixNQKJw5zj21",
    "outputId": "ff22ded5-4100-4a74-893c-3d842a80fe46"
   },
   "outputs": [
    {
     "name": "stdout",
     "output_type": "stream",
     "text": [
      "Sección -> https://www.solotodo.cl/notebooks\n",
      "https://www.solotodo.cl/products/53264-lenovo-ideapad-330-14ast-81d5005pcl\n",
      "https://www.solotodo.cl/products/79894-lenovo-ideapad-s145-14ast-81st007ycl\n",
      "https://www.solotodo.cl/products/64227-hp-240-g7-6fu25lt\n",
      "https://www.solotodo.cl/products/84211-hp-240-g7-1d0f9lt\n",
      "https://www.solotodo.cl/products/64618-hp-245-g7-6lm84lt\n",
      "https://www.solotodo.cl/products/62280-hp-240-g7-6gj49lt\n",
      "https://www.solotodo.cl/products/84526-hp-14-cm0120la-1c2d0la\n",
      "https://www.solotodo.cl/products/62168-hp-14-cm0002la-3px42la\n",
      "https://www.solotodo.cl/products/84159-hp-240-g7-1d0f5lt\n",
      "https://www.solotodo.cl/products/46936-hp-15-da0004la-3px29la\n",
      "https://www.solotodo.cl/products/69843-lenovo-v145-15ast-81mt003ycl\n",
      "https://www.solotodo.cl/products/83870-asus-e402ya-ga256t\n",
      "Sección -> https://www.solotodo.cl/notebooks?page=2\n",
      "https://www.solotodo.cl/products/46936-hp-15-da0004la-3px29la\n",
      "https://www.solotodo.cl/products/69843-lenovo-v145-15ast-81mt003ycl\n",
      "https://www.solotodo.cl/products/83870-asus-e402ya-ga256t\n",
      "https://www.solotodo.cl/products/84605-lenovo-ideapad-330-15igm-81d100nyak\n",
      "https://www.solotodo.cl/products/84778-hp-240-g7-celeron-n4020-4gb-500gb-w10h\n",
      "https://www.solotodo.cl/products/79371-hp-240-g7-celeron-n4000-4gb-500-gb-w10-home\n",
      "https://www.solotodo.cl/products/82921-hp-15-db0041la-9uv74la\n",
      "https://www.solotodo.cl/products/83871-asus-x409fa-ek486t\n",
      "https://www.solotodo.cl/products/84315-hp-15-da0082la-9uv27la\n",
      "https://www.solotodo.cl/products/82862-hp-14-cf1020od-6kl69ua\n",
      "https://www.solotodo.cl/products/83970-asus-x543ua-gq3166t\n",
      "https://www.solotodo.cl/products/84184-hp-14-cf0011la-8vv90la\n",
      "Sección -> https://www.solotodo.cl/notebooks?page=3\n",
      "https://www.solotodo.cl/products/83034-hp-folio-13-2000-i5-2467m-4gb-128gb-ssd\n",
      "https://www.solotodo.cl/products/84898-hp-240-g7-1d0f5lt-m\n",
      "https://www.solotodo.cl/products/80221-hp-14-cf1010ds-7jl18ua\n",
      "https://www.solotodo.cl/products/83229-lenovo-ideapad-1-14igl05-81vu000jus\n",
      "https://www.solotodo.cl/products/81568-asus-vivobook-x505za-bq449t\n",
      "https://www.solotodo.cl/products/74869-lenovo-ideapad-s145-14iil-81w6000fcl\n",
      "https://www.solotodo.cl/products/79443-hp-14-dk1003dx-9xm12ua\n",
      "https://www.solotodo.cl/products/82259-hp-240-g7-i3-8130u-4gb-1tb-w10-home\n",
      "https://www.solotodo.cl/products/82866-hp-14-cf0012dx-7ft36ua\n",
      "https://www.solotodo.cl/products/84774-hp-15-db0017ds-7xn35ua\n",
      "https://www.solotodo.cl/products/84776-hp-15-db0016ds-7xn29ua\n",
      "https://www.solotodo.cl/products/57801-hp-15-da0039la-4pf21la\n",
      "Sección -> https://www.solotodo.cl/notebooks?page=4\n",
      "https://www.solotodo.cl/products/80289-hp-240-g7-9vm11lt\n",
      "https://www.solotodo.cl/products/84371-lenovo-v130-15ikb-81hn00y2ak\n",
      "https://www.solotodo.cl/products/83754-hp-240-g7-151d5lt\n",
      "https://www.solotodo.cl/products/81137-hp-240-g7-i3-8130u-4gb-1tb-freedos\n",
      "https://www.solotodo.cl/products/59582-hp-15-da0057la-3py13la\n",
      "https://www.solotodo.cl/products/69126-hp-14-dq1001la-6qw05la\n",
      "https://www.solotodo.cl/products/77495-hp-14-ck0044la-6qw92la\n",
      "https://www.solotodo.cl/products/68184-acer-aspire-3-a314-21-94qh-1-nxheral002-1\n",
      "https://www.solotodo.cl/products/84051-hp-240-g7-151d6lt\n",
      "https://www.solotodo.cl/products/85148-hp-15-db1931cl-7nm96ua\n",
      "https://www.solotodo.cl/products/85149-hp-240-g7-i3-1005g1-4gb-1tb-freedos-negro\n",
      "https://www.solotodo.cl/products/84779-hp-240-g7-i3-1005g1-4gb-1tb-freedos-azul\n",
      "Sección -> https://www.solotodo.cl/notebooks?page=5\n",
      "https://www.solotodo.cl/products/64619-hp-240-g7-6fu29lt\n",
      "https://www.solotodo.cl/products/80680-lenovo-ideapad-1-14igl05-81vu001dcl\n",
      "https://www.solotodo.cl/products/84000-acer-aspire-3-a314-22-r7el-1-nxhvwal0031\n",
      "https://www.solotodo.cl/products/81834-hp-240-g7-9vm13lt\n",
      "https://www.solotodo.cl/products/83872-hp-250-g7-153b5lt\n",
      "https://www.solotodo.cl/products/84202-hp-14-cf0024la-9uv13la\n",
      "https://www.solotodo.cl/products/78588-hp-15-db0031nr-4jb82ua\n",
      "https://www.solotodo.cl/products/76405-lenovo-ideapad-s145-14iil-81w60006cl\n",
      "https://www.solotodo.cl/products/82263-hp-250-g7-9vs07lt\n",
      "https://www.solotodo.cl/products/63728-hp-245-g7-6mz85lt\n",
      "https://www.solotodo.cl/products/78552-lenovo-ideapad-s145-15iil-81w8003qcl\n",
      "https://www.solotodo.cl/products/84635-hp-15-da0083la-9uv28la\n",
      "Sección -> https://www.solotodo.cl/notebooks?page=6\n",
      "https://www.solotodo.cl/products/47502-hp-14-cm0007la-3px47la\n",
      "https://www.solotodo.cl/products/72498-hp-14-cm1047la-6qw80la\n",
      "https://www.solotodo.cl/products/75892-lenovo-l340-15api-81lw006wlm\n",
      "https://www.solotodo.cl/products/64653-lenovo-ideapad-s145-14iwl-81mu003wcl\n",
      "https://www.solotodo.cl/products/84185-lenovo-ideapad-s145-14iwl-81mu00g5cl\n",
      "https://www.solotodo.cl/products/84253-lenovo-ideapad-3-14iil05-81wd00aqcl\n",
      "https://www.solotodo.cl/products/80527-dell-inspiron-14-3492-i3-1005g1-4gb-1tb-freedos\n",
      "https://www.solotodo.cl/products/84698-hp-245-g7-161d8lt\n",
      "https://www.solotodo.cl/products/69592-asus-vivobook-x412fa-ek728t\n",
      "https://www.solotodo.cl/products/67099-hp-245-g7-ryzen-3-2200u-4gb-500gb\n",
      "https://www.solotodo.cl/products/76573-lenovo-ideapad-s145-14ikb-81vb0006cl\n",
      "https://www.solotodo.cl/products/84633-hp-245-g7-ryzen-3-2200u-4gb-1tb\n",
      "Sección -> https://www.solotodo.cl/notebooks?page=7\n",
      "https://www.solotodo.cl/products/84918-lenovo-ideapad-3-15are05-81w40024cl\n",
      "https://www.solotodo.cl/products/85092-dell-inspiron-14-3480-pentium-gold-5405u-4gb-128gb-ssd-w10h\n",
      "https://www.solotodo.cl/products/80956-acer-aspire-3-a315-42-r8yf-1-nxhf9al00p1\n",
      "https://www.solotodo.cl/products/60247-hp-240-g7-6mf23lt\n",
      "https://www.solotodo.cl/products/80040-hp-15-db1005cl-6ju45ua\n",
      "https://www.solotodo.cl/products/81893-lenovo-v15-81yd0015eu\n",
      "https://www.solotodo.cl/products/83839-hp-240-g7-151f2lt\n",
      "https://www.solotodo.cl/products/60758-lenovo-ideapad-v330-14ikb-81b0009xcl\n",
      "https://www.solotodo.cl/products/50100-lenovo-ideapad-330s-81f400cbcl\n",
      "https://www.solotodo.cl/products/84523-asus-vivobook-x412fa-ek292t-90nb0l92-m17690\n",
      "https://www.solotodo.cl/products/85052-asus-vivobook-x413fa-ek493t\n",
      "https://www.solotodo.cl/products/84646-lenovo-l340-15api-81lw00dcak\n",
      "Sección -> https://www.solotodo.cl/notebooks?page=8\n",
      "https://www.solotodo.cl/products/84647-lenovo-l340-15api-81lw00dbak\n",
      "https://www.solotodo.cl/products/84649-lenovo-l340-15api-81lw00daak\n",
      "https://www.solotodo.cl/products/84648-lenovo-l340-15api-81lw006fak\n",
      "https://www.solotodo.cl/products/79377-asus-m409da-ek107t\n",
      "https://www.solotodo.cl/products/64978-hp-14-cm1041la-4pg21la\n",
      "https://www.solotodo.cl/products/79370-lenovo-ideapad-s340-i3-1005g1-12gb-256gb-ssd\n",
      "https://www.solotodo.cl/products/64558-lenovo-ideapad-s340-14api-81nb002tcl\n",
      "https://www.solotodo.cl/products/83790-hp-245-g7-168u1up\n",
      "https://www.solotodo.cl/products/84913-hp-245-g7-ryzen-3-2200u-8gb-1tb\n",
      "https://www.solotodo.cl/products/85046-asus-vivobook-x409fa-bv539t\n",
      "https://www.solotodo.cl/products/84627-asus-vivobook-x413fa-ek542t-90nb0q07-m08130\n",
      "https://www.solotodo.cl/products/82063-hp-250-g7-150q0lt\n",
      "Sección -> https://www.solotodo.cl/notebooks?page=9\n",
      "https://www.solotodo.cl/products/57177-acer-aspire-5-a515-52-577k-1\n",
      "https://www.solotodo.cl/products/84025-acer-aspire-3-a315-42-r8yf-nxhf9al00p\n",
      "https://www.solotodo.cl/products/84356-hp-14-dq1014la-9uv92la\n",
      "https://www.solotodo.cl/products/85060-acer-aspire-3-a315-56-346u-1-nxhs5al00f1\n",
      "https://www.solotodo.cl/products/80945-acer-aspire-3-a315-56-344k-1-nxhs5al00f1\n",
      "https://www.solotodo.cl/products/69156-hp-15-cw1013la-6qw82la\n",
      "https://www.solotodo.cl/products/82465-lenovo-ideapad-v330-14ikb-i3-7020u-4gb-500gb\n",
      "https://www.solotodo.cl/products/69497-hp-14-dq1004la-6qw11la\n",
      "https://www.solotodo.cl/products/81397-lenovo-v14-iil-82c400e8cl\n",
      "https://www.solotodo.cl/products/55784-lenovo-thinkpad-yoga-11e-20lms00s00\n",
      "https://www.solotodo.cl/products/48459-lenovo-ideapad-v330-14ikb-81b0009rcl\n",
      "https://www.solotodo.cl/products/84038-lenovo-ideapad-s340-15iil-81ww0003us\n",
      "Sección -> https://www.solotodo.cl/notebooks?page=10\n",
      "https://www.solotodo.cl/products/48459-lenovo-ideapad-v330-14ikb-81b0009rcl\n",
      "https://www.solotodo.cl/products/84038-lenovo-ideapad-s340-15iil-81ww0003us\n",
      "https://www.solotodo.cl/products/82624-hp-240-g7-i5-8265u-4gb-1tb-freedos\n",
      "https://www.solotodo.cl/products/83444-hp-250-g6-i5-8250u-8gb-1tb\n",
      "https://www.solotodo.cl/products/73663-asus-vivobook-x407ua-bv484t\n",
      "https://www.solotodo.cl/products/62277-hp-240-g7-6mf09lt\n"
     ]
    },
    {
     "name": "stdout",
     "output_type": "stream",
     "text": [
      "https://www.solotodo.cl/products/84316-hp-pavilion-x360-14-dh0025la-2b114la\n",
      "https://www.solotodo.cl/products/84588-hp-15-gw0008la-15w69la\n",
      "https://www.solotodo.cl/products/84697-hp-15-gw0005la-15f17la\n",
      "https://www.solotodo.cl/products/82391-lenovo-ideapad-s145-15iil-81ww0003us\n",
      "https://www.solotodo.cl/products/39676-hp-240-g6-1nw28lt\n",
      "https://www.solotodo.cl/products/69138-hp-14-dq1003la-6qw09la\n"
     ]
    }
   ],
   "source": [
    "import requests\n",
    "from bs4 import BeautifulSoup\n",
    "\n",
    "def a_numero(string):\n",
    "    numero = \"\"\n",
    "    for i in string:\n",
    "        if i.isnumeric:\n",
    "            numero += i#p\n",
    "    return int(numero)\n",
    "            \n",
    "\n",
    "def product_data():\n",
    "    base_url = 'https://www.solotodo.cl'\n",
    "    url = 'https://www.solotodo.cl/notebooks'\n",
    "    _nombres = []\n",
    "    _precios = []\n",
    "    procesadores = []\n",
    "    rams = []\n",
    "    almacenamientos = []\n",
    "    tarjetas = []\n",
    "    pesos = []\n",
    "    puntuacion_aplic = []\n",
    "    puntuacion_gaming = []\n",
    "    puntuacion_mov = []\n",
    "    listas = {\n",
    "        'Procesador': procesadores,\n",
    "        'RAM': rams,\n",
    "        'Almacenamiento': almacenamientos,\n",
    "        'Tarjetas de video': tarjetas,\n",
    "        'Peso': pesos,\n",
    "        \n",
    "        #'P'\n",
    "        \n",
    "    }\n",
    "    \n",
    "    lista_calificacion = {\n",
    "        'Aplicaciones': puntuacion_aplic,\n",
    "        'Gaming': puntuacion_gaming,\n",
    "        'Movilidad': puntuacion_mov\n",
    "    }\n",
    "    a = True\n",
    "    numero_notebook = 0\n",
    "    _url = url # ñ #tl\n",
    "    while numero_notebook < 120:\n",
    "        print('Sección ->', _url)\n",
    "        # Hacemos la solicitud\n",
    "        page = requests.get(_url)\n",
    "\n",
    "        # Objeto con el contenido :D\n",
    "        soup = BeautifulSoup(page.content, 'html.parser')\n",
    "\n",
    "        # https://stackoverflow.com/questions/5041008/how-to-find-elements-by-class\n",
    "        notebooks_section = soup.find_all('div', {'class': 'category-browse-results'})[-1]\n",
    "\n",
    "        # recorremos cada notebook\n",
    "        for notebook_div in notebooks_section.find_all('div', {'class': 'category-browse-result'}):\n",
    "\n",
    "            # Exrtaemos el precio\n",
    "            nombre = notebook_div.find('h3').find('a').text\n",
    "            precio = notebook_div.find_all('div')[-1].text\n",
    "            try:\n",
    "                precio = int(precio.replace('$', '').replace('.', '')) #content\n",
    "            except:\n",
    "                precio = a_numero(precio)\n",
    "                \n",
    "            # Extraemos página específica del producto \n",
    "            notebook_url = base_url + notebook_div.find('a')['href']\n",
    "            print(notebook_url)\n",
    "            notebook_page = requests.get(notebook_url)\n",
    "            notebook_soup = BeautifulSoup(notebook_page.content, 'html.parser')#rtr'requests.)\n",
    "            \n",
    "            caracteristicas = notebook_soup.find(id='technical-specifications-container') # B\n",
    "            cuadros = caracteristicas.find('div').find_all('div')\n",
    "            titles = []\n",
    "            #values = []\n",
    "            values = []\n",
    "            for cuadro in cuadros:\n",
    "                primero = cuadro.find('dl')\n",
    "                titles += primero.find_all('dt')\n",
    "                values += primero.find_all('dd')\n",
    "            encontrados = {\n",
    "                'Procesador': False, #True,\n",
    "                'RAM': False, #A fA,\n",
    "                'Almacenamiento': False,\n",
    "                'Tarjetas de video': False,\n",
    "                'Peso': False\n",
    "            }\n",
    "            n = 0\n",
    "            \n",
    "            for i in range(len(titles)):\n",
    "                _nombre = titles[i].text.strip() #\n",
    "                if _nombre in listas:\n",
    "                    tabla = values[i].find('ul')\n",
    "                    if tabla:\n",
    "                        valor = ', '.join([j.text.replace('\\n', ' ').replace('\\t', ' ').replace('\\r', ' ') for j in tabla.find_all('li')]) #0\n",
    "                    else:\n",
    "                        valor = values[i].text.strip().replace('\\n', ' ').replace('\\t', ' ').replace('\\r', ' ')\n",
    "                    listas[titles[i].text.strip()].append(valor)#ues)\n",
    "                    del encontrados[_nombre]\n",
    "                    n += 1\n",
    "            for i in encontrados:\n",
    "                listas[i].append(None)\n",
    "                \n",
    "            calificaciones = notebook_soup.find('div', {'id': 'benchmarks-container'})\n",
    "            nombres = calificaciones.find_all('p', {'class': 'benchmark-name'})\n",
    "            puntuaciones = calificaciones.find_all('p', {'class': 'benchmark-score'})\n",
    "            check = [\"Aplicaciones\", \"Gaming\", \"Movilidad\"]\n",
    "            \n",
    "            for i in range(len(nombres)):\n",
    "                if nombres[i].text.strip() in lista_calificacion:\n",
    "                    puntuacion = a_numero(puntuaciones[i].text.split(\"/\")[0])\n",
    "                    lista_calificacion[nombres[i].text.strip()].append(puntuacion)\n",
    "                    check.remove(nombres[i].text.strip())\n",
    "            for _nombre in check:\n",
    "                puntuacion = 0\n",
    "                lista_calificacion[_nombre].append(puntuacion)\n",
    "            \n",
    "            _nombres.append(nombre)\n",
    "            _precios.append(precio)\n",
    "            #print(nombre, precio, [listas[i][-1] for i in listas], [lista_calificacion[i][-1] for i in lista_calificacion])\n",
    "            \n",
    "\n",
    "            #f\n",
    "            numero_notebook += 1\n",
    "        _url = url + soup.find_all('li', {'class': 'page-item'})[-1].find('a')['href']#.t\n",
    "        #a = False\n",
    "        \n",
    "    # construimos un diccionario con la información de cada fila\n",
    "    ides = list(range(len(_nombres)))\n",
    "    \n",
    "    data = {\n",
    "            'Nombre': _nombres,\n",
    "            'Precio': _precios,\n",
    "            'Procesador': procesadores,\n",
    "            'RAM': rams,\n",
    "            'Almacenamiento': almacenamientos,\n",
    "            'Tarjetas de video': tarjetas,\n",
    "            'Peso': pesos,\n",
    "            'Aplicaciones': puntuacion_aplic,\n",
    "            'Gaming': puntuacion_gaming,\n",
    "            'Movilidad': puntuacion_mov}\n",
    "    \n",
    "    #for i, k in data.items():\n",
    "    #    print(i, k)\n",
    "\n",
    "    # podemos pasar todo estos a un dataframe\n",
    "    table = pd.DataFrame(data=data)\n",
    "    table\n",
    "    return table\n",
    "\n",
    "tabla = product_data()"
   ]
  },
  {
   "cell_type": "markdown",
   "metadata": {
    "colab_type": "text",
    "id": "T-UoLItly2E8"
   },
   "source": [
    "## Parte 2: Manejo de Datos\n",
    "\n",
    "A partir de los datos obtenidos en la parte 1 debes guardar los resultados en un archivo ```.csv```. Finalmente, debes **responder 2 de las 3 consultas que hay más adelante** (la que no elijan les queda como propuesto) y **guardar los _outputs_ en archivos .csv llamados** ```consultaX.csv``` (donde X es el número de la consulta):\n",
    "\n",
    "**Tip**: para guardar los datos en un archivo ```.csv``` puede ser útil utilizar el ejemplo de _pandas_ definido más arriba. De todas formas, si esto te complica, se pueden usar listas y _write_ de ```python```.\n"
   ]
  },
  {
   "cell_type": "code",
   "execution_count": 129,
   "metadata": {
    "colab": {},
    "colab_type": "code",
    "id": "nVFtuO37zHm1"
   },
   "outputs": [
    {
     "data": {
      "text/html": [
       "<div>\n",
       "<style scoped>\n",
       "    .dataframe tbody tr th:only-of-type {\n",
       "        vertical-align: middle;\n",
       "    }\n",
       "\n",
       "    .dataframe tbody tr th {\n",
       "        vertical-align: top;\n",
       "    }\n",
       "\n",
       "    .dataframe thead th {\n",
       "        text-align: right;\n",
       "    }\n",
       "</style>\n",
       "<table border=\"1\" class=\"dataframe\">\n",
       "  <thead>\n",
       "    <tr style=\"text-align: right;\">\n",
       "      <th></th>\n",
       "      <th>Nombre</th>\n",
       "      <th>Precio</th>\n",
       "      <th>Procesador</th>\n",
       "      <th>RAM</th>\n",
       "      <th>Almacenamiento</th>\n",
       "      <th>Tarjetas de video</th>\n",
       "      <th>Peso</th>\n",
       "      <th>Aplicaciones</th>\n",
       "      <th>Gaming</th>\n",
       "      <th>Movilidad</th>\n",
       "    </tr>\n",
       "  </thead>\n",
       "  <tbody>\n",
       "    <tr>\n",
       "      <td>0</td>\n",
       "      <td>Lenovo IdeaPad 330-14AST [81D5005PCL]</td>\n",
       "      <td>279990</td>\n",
       "      <td>AMD A4-9125 (2 núcleos /     4 hilos / 2300 MH...</td>\n",
       "      <td>4 GB DDR4 (2133 MHz)</td>\n",
       "      <td>HDD 500GB (5400rpm)</td>\n",
       "      <td>AMD Radeon R3 Graphics (Mullins/Beema) (Integr...</td>\n",
       "      <td>2200 g.</td>\n",
       "      <td>277</td>\n",
       "      <td>117</td>\n",
       "      <td>520</td>\n",
       "    </tr>\n",
       "    <tr>\n",
       "      <td>1</td>\n",
       "      <td>Lenovo IdeaPad S145-14AST [81ST007YCL]</td>\n",
       "      <td>279990</td>\n",
       "      <td>AMD A4-9125 (2 núcleos /     4 hilos / 2300 MH...</td>\n",
       "      <td>4 GB DDR4 (2133 MHz)</td>\n",
       "      <td>HDD 500GB (5400rpm)</td>\n",
       "      <td>AMD Radeon R3 Graphics (Mullins/Beema) (Integr...</td>\n",
       "      <td>2200 g.</td>\n",
       "      <td>277</td>\n",
       "      <td>117</td>\n",
       "      <td>520</td>\n",
       "    </tr>\n",
       "    <tr>\n",
       "      <td>2</td>\n",
       "      <td>HP 240 G7 [6FU25LT]</td>\n",
       "      <td>279990</td>\n",
       "      <td>Intel Celeron N4000 (2 núcleos /     2 hilos /...</td>\n",
       "      <td>4 GB DDR4 (2400 MHz)</td>\n",
       "      <td>HDD 500GB (5400rpm)</td>\n",
       "      <td>Intel UHD Graphics 600 (Integrada)</td>\n",
       "      <td>1520 g.</td>\n",
       "      <td>241</td>\n",
       "      <td>109</td>\n",
       "      <td>722</td>\n",
       "    </tr>\n",
       "    <tr>\n",
       "      <td>3</td>\n",
       "      <td>HP 240 G7 [1D0F9LT]</td>\n",
       "      <td>279990</td>\n",
       "      <td>Intel Celeron N4020 (2 núcleos /     2 hilos /...</td>\n",
       "      <td>4 GB DDR4 (2400 MHz)</td>\n",
       "      <td>HDD 500GB (7200rpm)</td>\n",
       "      <td>Intel UHD Graphics 600 (Integrada)</td>\n",
       "      <td>1520 g.</td>\n",
       "      <td>265</td>\n",
       "      <td>115</td>\n",
       "      <td>622</td>\n",
       "    </tr>\n",
       "    <tr>\n",
       "      <td>4</td>\n",
       "      <td>HP 245 G7 [6LM84LT]</td>\n",
       "      <td>290990</td>\n",
       "      <td>AMD A4-9125 (2 núcleos /     4 hilos / 2300 MH...</td>\n",
       "      <td>4 GB DDR4 (1866 MHz)</td>\n",
       "      <td>HDD 500GB (5400rpm)</td>\n",
       "      <td>AMD Radeon R3 Graphics (Mullins/Beema) (Integr...</td>\n",
       "      <td>1520 g.</td>\n",
       "      <td>277</td>\n",
       "      <td>117</td>\n",
       "      <td>622</td>\n",
       "    </tr>\n",
       "    <tr>\n",
       "      <td>...</td>\n",
       "      <td>...</td>\n",
       "      <td>...</td>\n",
       "      <td>...</td>\n",
       "      <td>...</td>\n",
       "      <td>...</td>\n",
       "      <td>...</td>\n",
       "      <td>...</td>\n",
       "      <td>...</td>\n",
       "      <td>...</td>\n",
       "      <td>...</td>\n",
       "    </tr>\n",
       "    <tr>\n",
       "      <td>115</td>\n",
       "      <td>HP 15-GW0008LA [15W69LA]</td>\n",
       "      <td>499990</td>\n",
       "      <td>AMD Ryzen 3 3250U (2 núcleos /     4 hilos / 2...</td>\n",
       "      <td>8 GB DDR4 (2400 MHz)</td>\n",
       "      <td>SSD 256GB</td>\n",
       "      <td>AMD Radeon RX Vega 3 (Integrada)</td>\n",
       "      <td>1470 g.</td>\n",
       "      <td>526</td>\n",
       "      <td>223</td>\n",
       "      <td>549</td>\n",
       "    </tr>\n",
       "    <tr>\n",
       "      <td>116</td>\n",
       "      <td>HP 15-GW0005LA [15F17LA]</td>\n",
       "      <td>499990</td>\n",
       "      <td>AMD Ryzen 3 3250U (2 núcleos /     4 hilos / 2...</td>\n",
       "      <td>8 GB DDR4 (2400 MHz)</td>\n",
       "      <td>SSD 256GB</td>\n",
       "      <td>AMD Radeon RX Vega 3 (Integrada)</td>\n",
       "      <td>1470 g.</td>\n",
       "      <td>526</td>\n",
       "      <td>223</td>\n",
       "      <td>549</td>\n",
       "    </tr>\n",
       "    <tr>\n",
       "      <td>117</td>\n",
       "      <td>Lenovo IdeaPad S145-15IIL [81WW0003US]</td>\n",
       "      <td>499000</td>\n",
       "      <td>Intel Core i3-1005G1 (2 núcleos /     4 hilos ...</td>\n",
       "      <td>8 GB DDR4 (2666 MHz)</td>\n",
       "      <td>SSD 256GB</td>\n",
       "      <td>Intel HD Graphics G1 (Integrada)</td>\n",
       "      <td>1600 g.</td>\n",
       "      <td>631</td>\n",
       "      <td>261</td>\n",
       "      <td>530</td>\n",
       "    </tr>\n",
       "    <tr>\n",
       "      <td>118</td>\n",
       "      <td>HP 240 G6 [1NW28LT]</td>\n",
       "      <td>499990</td>\n",
       "      <td>Intel Core i5-7200U (2 núcleos /     4 hilos /...</td>\n",
       "      <td>4 GB DDR4 (2133 MHz)</td>\n",
       "      <td>HDD 1TB (5400rpm)</td>\n",
       "      <td>Intel HD Graphics 620 (Integrada)</td>\n",
       "      <td>1850 g.</td>\n",
       "      <td>483</td>\n",
       "      <td>187</td>\n",
       "      <td>572</td>\n",
       "    </tr>\n",
       "    <tr>\n",
       "      <td>119</td>\n",
       "      <td>HP 14-DQ1003LA [6QW09LA]</td>\n",
       "      <td>499990</td>\n",
       "      <td>Intel Core i5-1035G1 (4 núcleos /     8 hilos ...</td>\n",
       "      <td>4 GB DDR4 (2666 MHz)</td>\n",
       "      <td>Intel Optane 16GB, SSD 256GB</td>\n",
       "      <td>Intel UHD Graphics G1 (Integrada)</td>\n",
       "      <td>1460 g.</td>\n",
       "      <td>787</td>\n",
       "      <td>280</td>\n",
       "      <td>631</td>\n",
       "    </tr>\n",
       "  </tbody>\n",
       "</table>\n",
       "<p>120 rows × 10 columns</p>\n",
       "</div>"
      ],
      "text/plain": [
       "                                     Nombre  Precio  \\\n",
       "0     Lenovo IdeaPad 330-14AST [81D5005PCL]  279990   \n",
       "1    Lenovo IdeaPad S145-14AST [81ST007YCL]  279990   \n",
       "2                       HP 240 G7 [6FU25LT]  279990   \n",
       "3                       HP 240 G7 [1D0F9LT]  279990   \n",
       "4                       HP 245 G7 [6LM84LT]  290990   \n",
       "..                                      ...     ...   \n",
       "115                HP 15-GW0008LA [15W69LA]  499990   \n",
       "116                HP 15-GW0005LA [15F17LA]  499990   \n",
       "117  Lenovo IdeaPad S145-15IIL [81WW0003US]  499000   \n",
       "118                     HP 240 G6 [1NW28LT]  499990   \n",
       "119                HP 14-DQ1003LA [6QW09LA]  499990   \n",
       "\n",
       "                                            Procesador                   RAM  \\\n",
       "0    AMD A4-9125 (2 núcleos /     4 hilos / 2300 MH...  4 GB DDR4 (2133 MHz)   \n",
       "1    AMD A4-9125 (2 núcleos /     4 hilos / 2300 MH...  4 GB DDR4 (2133 MHz)   \n",
       "2    Intel Celeron N4000 (2 núcleos /     2 hilos /...  4 GB DDR4 (2400 MHz)   \n",
       "3    Intel Celeron N4020 (2 núcleos /     2 hilos /...  4 GB DDR4 (2400 MHz)   \n",
       "4    AMD A4-9125 (2 núcleos /     4 hilos / 2300 MH...  4 GB DDR4 (1866 MHz)   \n",
       "..                                                 ...                   ...   \n",
       "115  AMD Ryzen 3 3250U (2 núcleos /     4 hilos / 2...  8 GB DDR4 (2400 MHz)   \n",
       "116  AMD Ryzen 3 3250U (2 núcleos /     4 hilos / 2...  8 GB DDR4 (2400 MHz)   \n",
       "117  Intel Core i3-1005G1 (2 núcleos /     4 hilos ...  8 GB DDR4 (2666 MHz)   \n",
       "118  Intel Core i5-7200U (2 núcleos /     4 hilos /...  4 GB DDR4 (2133 MHz)   \n",
       "119  Intel Core i5-1035G1 (4 núcleos /     8 hilos ...  4 GB DDR4 (2666 MHz)   \n",
       "\n",
       "                   Almacenamiento  \\\n",
       "0             HDD 500GB (5400rpm)   \n",
       "1             HDD 500GB (5400rpm)   \n",
       "2             HDD 500GB (5400rpm)   \n",
       "3             HDD 500GB (7200rpm)   \n",
       "4             HDD 500GB (5400rpm)   \n",
       "..                            ...   \n",
       "115                     SSD 256GB   \n",
       "116                     SSD 256GB   \n",
       "117                     SSD 256GB   \n",
       "118             HDD 1TB (5400rpm)   \n",
       "119  Intel Optane 16GB, SSD 256GB   \n",
       "\n",
       "                                     Tarjetas de video     Peso  Aplicaciones  \\\n",
       "0    AMD Radeon R3 Graphics (Mullins/Beema) (Integr...  2200 g.           277   \n",
       "1    AMD Radeon R3 Graphics (Mullins/Beema) (Integr...  2200 g.           277   \n",
       "2                   Intel UHD Graphics 600 (Integrada)  1520 g.           241   \n",
       "3                   Intel UHD Graphics 600 (Integrada)  1520 g.           265   \n",
       "4    AMD Radeon R3 Graphics (Mullins/Beema) (Integr...  1520 g.           277   \n",
       "..                                                 ...      ...           ...   \n",
       "115                   AMD Radeon RX Vega 3 (Integrada)  1470 g.           526   \n",
       "116                   AMD Radeon RX Vega 3 (Integrada)  1470 g.           526   \n",
       "117                   Intel HD Graphics G1 (Integrada)  1600 g.           631   \n",
       "118                  Intel HD Graphics 620 (Integrada)  1850 g.           483   \n",
       "119                  Intel UHD Graphics G1 (Integrada)  1460 g.           787   \n",
       "\n",
       "     Gaming  Movilidad  \n",
       "0       117        520  \n",
       "1       117        520  \n",
       "2       109        722  \n",
       "3       115        622  \n",
       "4       117        622  \n",
       "..      ...        ...  \n",
       "115     223        549  \n",
       "116     223        549  \n",
       "117     261        530  \n",
       "118     187        572  \n",
       "119     280        631  \n",
       "\n",
       "[120 rows x 10 columns]"
      ]
     },
     "execution_count": 129,
     "metadata": {},
     "output_type": "execute_result"
    }
   ],
   "source": [
    "tabla.to_csv('notebooks.csv')\n",
    "tabla"
   ]
  },
  {
   "cell_type": "code",
   "execution_count": null,
   "metadata": {},
   "outputs": [],
   "source": []
  },
  {
   "cell_type": "markdown",
   "metadata": {
    "colab_type": "text",
    "id": "nxhOCEe0zmm6"
   },
   "source": [
    "#### Consulta 1: \n",
    "\n",
    "Obtener los 10 mejores computadores según el orden de cada una de las ```puntuaciones vs precio``` (gaming/precio, movilidad/precio, aplicaciones/precio):\n",
    "\n",
    "\n",
    "(Se piden 3 listas de 10 computadores, una lista ordenada por cada puntuación/precio)"
   ]
  },
  {
   "cell_type": "code",
   "execution_count": 177,
   "metadata": {
    "colab": {},
    "colab_type": "code",
    "id": "TQzAugt4zkVJ"
   },
   "outputs": [],
   "source": [
    "gaming = sorted(tabla.iterrows(), key= lambda x: x[1][\"Gaming\"]/x[1][\"Precio\"], reverse=True)[:10]\n",
    "movilidad = sorted(tabla.iterrows(), key= lambda x: x[1][\"Movilidad\"]/x[1][\"Precio\"], reverse=True)[:10]\n",
    "aplicaciones = sorted(tabla.iterrows(), key= lambda x: x[1][\"Aplicaciones\"]/x[1][\"Precio\"], reverse=True)[:10]\n",
    "diccionario = {\"Gaming\": gaming, \"Movilidad\": movilidad, \"Aplicaciones\": aplicaciones}\n",
    "for i in diccionario:\n",
    "    tablita = pd.DataFrame([j[1] for j in diccionario[i]])\n",
    "    tablita.to_csv(f\"consulta1_{i.lower()}.csv\")#(#da'\"'\""
   ]
  },
  {
   "cell_type": "code",
   "execution_count": null,
   "metadata": {},
   "outputs": [],
   "source": []
  },
  {
   "cell_type": "code",
   "execution_count": null,
   "metadata": {},
   "outputs": [],
   "source": []
  },
  {
   "cell_type": "markdown",
   "metadata": {
    "colab_type": "text",
    "id": "Hlts9XWazvsI"
   },
   "source": [
    "#### Consulta 2: \n",
    "\n",
    "Para cada tarjeta gráfica integrada, calcula el valor promedio de los notebooks que la tienen incorporada."
   ]
  },
  {
   "cell_type": "code",
   "execution_count": null,
   "metadata": {
    "colab": {},
    "colab_type": "code",
    "id": "DItIkxMNztGi"
   },
   "outputs": [],
   "source": [
    "#######################################################\n",
    "#                                                     #\n",
    "#              ESCRIBE TU CÓDIGO ACÁ                  #\n",
    "#                                                     #\n",
    "#######################################################"
   ]
  },
  {
   "cell_type": "markdown",
   "metadata": {
    "colab_type": "text",
    "id": "JD62dOZdzt9f"
   },
   "source": [
    "#### Consulta 3: \n",
    "\n",
    "Determinar la cantidad de notebooks con procesador marca ```Intel``` y la cantidad con procesadores ```AMD```. Además, obtener el valor promedio de las puntuaciones (aplicaciones, gaming, movilidad) para cada marca. "
   ]
  },
  {
   "cell_type": "code",
   "execution_count": 157,
   "metadata": {
    "colab": {},
    "colab_type": "code",
    "id": "MsL5tGIczwk4"
   },
   "outputs": [],
   "source": [
    "intel = []\n",
    "amd = []\n",
    "\n",
    "for i, notebook in tabla.iterrows():\n",
    "    procesador = notebook[\"Procesador\"].lower()\n",
    "    if \"intel\" in procesador:\n",
    "        intel.append(notebook)\n",
    "    elif \"amd\" in procesador:\n",
    "        amd.append(notebook)"
   ]
  },
  {
   "cell_type": "code",
   "execution_count": 160,
   "metadata": {},
   "outputs": [
    {
     "name": "stdout",
     "output_type": "stream",
     "text": [
      "Hay 79 notebooks con proceasdor Intel\n",
      "Hay 41 notebooks con proceasdor AMD\n"
     ]
    }
   ],
   "source": [
    "print(f\"Hay {len(intel)} notebooks con proceasdor Intel\")\n",
    "print(f\"Hay {len(amd)} notebooks con proceasdor AMD\")"
   ]
  },
  {
   "cell_type": "code",
   "execution_count": 170,
   "metadata": {},
   "outputs": [],
   "source": [
    "listas = {\"Gaming\": [], \"Movilidad\": [], \"Aplicaciones\": []}\n",
    "for i in intel:\n",
    "    for k in listas:\n",
    "        listas[k].append(i[k])\n",
    "gaming_intel = sum(listas[\"Gaming\"])/len(intel)\n",
    "ap_intel = sum(listas[\"Aplicaciones\"])/len(intel)\n",
    "mov_intel = sum(listas[\"Movilidad\"])/len(intel)"
   ]
  },
  {
   "cell_type": "code",
   "execution_count": 171,
   "metadata": {},
   "outputs": [],
   "source": [
    "listas = {\"Gaming\": [], \"Movilidad\": [], \"Aplicaciones\": []}\n",
    "for i in amd:\n",
    "    for k in listas:\n",
    "        listas[k].append(i[k])\n",
    "gaming_amd = sum(listas[\"Gaming\"])/len(intel)\n",
    "ap_amd = sum(listas[\"Aplicaciones\"])/len(intel)\n",
    "mov_amd = sum(listas[\"Movilidad\"])/len(intel)"
   ]
  },
  {
   "cell_type": "code",
   "execution_count": 173,
   "metadata": {},
   "outputs": [],
   "source": [
    "with open('consulta3.csv', 'w') as archivo:\n",
    "    archivo.write(\",Intel,AMD\\n\")\n",
    "    archivo.write(\"Cantidad,\"+str(len(intel))+\",\"+str(len(amd))+\"\\n\")\n",
    "    archivo.write(\"Promedio Gaming,\"+str(gaming_intel)+\",\"+str(gaming_amd)+\"\\n\")\n",
    "    archivo.write(\"Promedio Aplicaciones,\"+str(ap_intel)+\",\"+str(ap_amd)+\"\\n\")\n",
    "    archivo.write(\"Promedio Movilidad,\"+str(mov_intel)+\",\"+str(mov_amd)+\"\\n\")"
   ]
  },
  {
   "cell_type": "code",
   "execution_count": null,
   "metadata": {},
   "outputs": [],
   "source": []
  }
 ],
 "metadata": {
  "colab": {
   "collapsed_sections": [
    "afu723VDRV4g",
    "rsUhITohUvOV",
    "aalh019cbtk4",
    "PyCIwItqfy8y"
   ],
   "name": "Copia de act01_webscraping",
   "provenance": []
  },
  "kernelspec": {
   "display_name": "Python 3",
   "language": "python",
   "name": "python3"
  },
  "language_info": {
   "codemirror_mode": {
    "name": "ipython",
    "version": 3
   },
   "file_extension": ".py",
   "mimetype": "text/x-python",
   "name": "python",
   "nbconvert_exporter": "python",
   "pygments_lexer": "ipython3",
   "version": "3.7.3"
  }
 },
 "nbformat": 4,
 "nbformat_minor": 1
}
